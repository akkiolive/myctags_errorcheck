{
 "cells": [
  {
   "cell_type": "code",
   "execution_count": 118,
   "metadata": {},
   "outputs": [
    {
     "name": "stdout",
     "output_type": "stream",
     "text": [
      "('MATLAB_10040',)\n"
     ]
    }
   ],
   "source": [
    "import matlab\n",
    "import matlab.engine\n",
    "\n",
    "# Execute 'matlab.engine.shareEngine' command in MATLAB before connecting shared matlab engine\n",
    "\n",
    "# find matlab shared engine. \n",
    "eng_names = matlab.engine.find_matlab()\n",
    "print(eng_names)"
   ]
  },
  {
   "cell_type": "code",
   "execution_count": 119,
   "metadata": {},
   "outputs": [
    {
     "name": "stdout",
     "output_type": "stream",
     "text": [
      "Quit MATLAB connection...\n",
      "Connecting to matlab...\n",
      "{'_matlab': 13, 'workspace': }\n"
     ]
    }
   ],
   "source": [
    "# MATLAB\n",
    "try:\n",
    "    print(\"Quit MATLAB connection...\")\n",
    "    eng.quit()\n",
    "except:\n",
    "    pass\n",
    "if len(eng_names) == 0:\n",
    "    print(\"Starting new matlab...\")\n",
    "    eng = matlab.engine.start_matlab()\n",
    "else:\n",
    "    # connect shared matlab engine\n",
    "    print(\"Connecting to matlab...\")\n",
    "    eng = matlab.engine.connect_matlab()\n",
    "\n",
    "# connected\n",
    "print(eng.__dict__)\n",
    "\n",
    "# set workspace variables\n",
    "import random\n",
    "random_number = random.random()\n",
    "eng.workspace[\"random_number\"] = random_number\n",
    "eng.workspace[\"python_connected\"] = True"
   ]
  },
  {
   "cell_type": "code",
   "execution_count": 122,
   "metadata": {},
   "outputs": [
    {
     "name": "stdout",
     "output_type": "stream",
     "text": [
      "1841.0029296875\n"
     ]
    }
   ],
   "source": [
    "# new system name\n",
    "target_system_name = \"example1\"\n",
    "target_system_filename = target_system_name + \".slx\"\n",
    "\n",
    "if False:\n",
    "    # copy blank file\n",
    "    eng.copyfile(\"blank.slx\", target_system_filename+\".temp\")\n",
    "\n",
    "    # delete file\n",
    "    eng.delete(target_system_filename+\".temp\", nargout=0)\n",
    "\n",
    "try:\n",
    "    # find system\n",
    "    eng.find_system(target_system_name)\n",
    "except:\n",
    "    # new system\n",
    "    target_system_handle = eng.new_system(target_system_name, nargout=0)\n",
    "    # save system\n",
    "    eng.save_system(target_system_name)\n",
    "\n",
    "# load system\n",
    "target_system_handle = eng.load_system(target_system_name)\n",
    "print(target_system_handle)"
   ]
  },
  {
   "cell_type": "code",
   "execution_count": 123,
   "metadata": {},
   "outputs": [],
   "source": [
    "# open system\n",
    "eng.open_system(target_system_name, nargout=0)"
   ]
  },
  {
   "cell_type": "code",
   "execution_count": 146,
   "metadata": {},
   "outputs": [],
   "source": [
    "# set pos\n",
    "def set_pos(handle, x, y, w, h):\n",
    "    eng.set_param(handle, \"Position\", matlab.double([x, y, x+w, y+h]), nargout=0)\n",
    "\n",
    "# add subsystem\n",
    "s = eng.add_block(\"simulink/Ports & Subsystems/Subsystem\", eng.bdroot() + \"/\" + \"Constant\", \"MakeNameUnique\", \"on\")\n",
    "set_pos(s, 0, 0, 100, 20)\n",
    "eng.delete_block(s, nargout=0)"
   ]
  },
  {
   "cell_type": "code",
   "execution_count": 160,
   "metadata": {},
   "outputs": [
    {
     "name": "stdout",
     "output_type": "stream",
     "text": [
      "example1/Constant [[20.0,5.0,120.0,25.0]] SubSystem\n",
      "example1/Constant/In1 [[110.0,103.0,140.0,117.0]] Inport\n",
      "example1/Constant/Out1 [[360.0,103.0,390.0,117.0]] Outport\n",
      "example1/Constant1 [[105.0,15.0,205.0,35.0]] SubSystem\n",
      "example1/Constant1/In1 [[110.0,103.0,140.0,117.0]] Inport\n",
      "example1/Constant1/Out1 [[360.0,103.0,390.0,117.0]] Outport\n",
      "example1/Constant2 [[65.0,85.0,165.0,105.0]] SubSystem\n",
      "example1/Constant2/In1 [[110.0,103.0,140.0,117.0]] Inport\n",
      "example1/Constant2/Out1 [[360.0,103.0,390.0,117.0]] Outport\n",
      "example1/Constant3 [[0.0,0.0,100.0,20.0]] SubSystem\n",
      "example1/Constant3/In1 [[110.0,103.0,140.0,117.0]] Inport\n",
      "example1/Constant3/Out1 [[360.0,103.0,390.0,117.0]] Outport\n",
      "example1/Constant4 [[65.0,200.0,165.0,220.0]] SubSystem\n",
      "example1/Constant4/In1 [[110.0,103.0,140.0,117.0]] Inport\n",
      "example1/Constant4/Out1 [[360.0,103.0,390.0,117.0]] Outport\n",
      "example1/Constant5 [[260.0,50.0,360.0,70.0]] SubSystem\n",
      "example1/Constant5/In1 [[110.0,103.0,140.0,117.0]] Inport\n",
      "example1/Constant5/Out1 [[360.0,103.0,390.0,117.0]] Outport\n",
      "example1/Constant6 [[245.0,130.0,345.0,150.0]] SubSystem\n",
      "example1/Constant6/In1 [[110.0,103.0,140.0,117.0]] Inport\n",
      "example1/Constant6/Out1 [[360.0,103.0,390.0,117.0]] Outport\n"
     ]
    }
   ],
   "source": [
    "#for h in eng.find_system(target_system_name, \"BlockType\", \"Inport\"):\n",
    "for i, h in enumerate(eng.find_system(target_system_name)):\n",
    "    if i == 0:\n",
    "        continue\n",
    "    print(h, eng.get_param(h, \"Position\"), eng.get_param(h, \"BlockType\"))"
   ]
  },
  {
   "cell_type": "code",
   "execution_count": null,
   "metadata": {},
   "outputs": [],
   "source": [
    "\n"
   ]
  },
  {
   "cell_type": "code",
   "execution_count": null,
   "metadata": {},
   "outputs": [],
   "source": [
    "\n"
   ]
  },
  {
   "cell_type": "code",
   "execution_count": null,
   "metadata": {},
   "outputs": [],
   "source": [
    "\n"
   ]
  },
  {
   "cell_type": "code",
   "execution_count": null,
   "metadata": {},
   "outputs": [],
   "source": []
  },
  {
   "cell_type": "code",
   "execution_count": null,
   "metadata": {},
   "outputs": [],
   "source": []
  },
  {
   "cell_type": "code",
   "execution_count": null,
   "metadata": {},
   "outputs": [],
   "source": [
    "\n",
    "\n",
    "\n",
    "\n"
   ]
  },
  {
   "cell_type": "code",
   "execution_count": 69,
   "metadata": {},
   "outputs": [
    {
     "data": {
      "text/plain": [
       "1865.0028076171875"
      ]
     },
     "execution_count": 69,
     "metadata": {},
     "output_type": "execute_result"
    }
   ],
   "source": [
    "# add a constant block\n",
    "eng.add_block(\"simulink/Sources/Constant\", eng.bdroot() + \"/\" + \"Constant\", \"MakeNameUnique\", \"on\")"
   ]
  },
  {
   "cell_type": "code",
   "execution_count": 72,
   "metadata": {},
   "outputs": [
    {
     "data": {
      "text/plain": [
       "1839.0010986328125"
      ]
     },
     "execution_count": 72,
     "metadata": {},
     "output_type": "execute_result"
    }
   ],
   "source": []
  },
  {
   "cell_type": "code",
   "execution_count": 162,
   "metadata": {},
   "outputs": [],
   "source": [
    "path = eng.save_system(target_system_name)"
   ]
  },
  {
   "cell_type": "code",
   "execution_count": 54,
   "metadata": {},
   "outputs": [],
   "source": [
    "print(\"Quit MATLAB connection...\")\n",
    "eng.quit()"
   ]
  }
 ],
 "metadata": {
  "interpreter": {
   "hash": "34fd958728ab3510b92540fe1f597ede1891a80f60825926686c4d8293495df0"
  },
  "kernelspec": {
   "display_name": "Python 3.6.8 64-bit",
   "language": "python",
   "name": "python3"
  },
  "language_info": {
   "codemirror_mode": {
    "name": "ipython",
    "version": 3
   },
   "file_extension": ".py",
   "mimetype": "text/x-python",
   "name": "python",
   "nbconvert_exporter": "python",
   "pygments_lexer": "ipython3",
   "version": "3.6.8"
  },
  "orig_nbformat": 4
 },
 "nbformat": 4,
 "nbformat_minor": 2
}
